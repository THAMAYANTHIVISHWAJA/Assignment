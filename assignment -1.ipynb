{
 "cells": [
  {
   "cell_type": "markdown",
   "id": "d1597a7e",
   "metadata": {},
   "source": [
    "# ASSIGNMENT"
   ]
  },
  {
   "cell_type": "code",
   "execution_count": null,
   "id": "a5de064a",
   "metadata": {},
   "outputs": [],
   "source": [
    "#importing beautifulsoup for reading html and xml"
   ]
  },
  {
   "cell_type": "code",
   "execution_count": null,
   "id": "ba458cd5",
   "metadata": {},
   "outputs": [],
   "source": [
    "from bs4 import BeautifulSoup"
   ]
  },
  {
   "cell_type": "code",
   "execution_count": null,
   "id": "5e520f6e",
   "metadata": {},
   "outputs": [],
   "source": [
    "#importing request to make sure website can be used for web scraping"
   ]
  },
  {
   "cell_type": "code",
   "execution_count": null,
   "id": "fe77a999",
   "metadata": {},
   "outputs": [],
   "source": [
    "import requests"
   ]
  },
  {
   "cell_type": "code",
   "execution_count": null,
   "id": "60c3bfcf",
   "metadata": {},
   "outputs": [],
   "source": [
    "#link of the website"
   ]
  },
  {
   "cell_type": "code",
   "execution_count": null,
   "id": "b744128e",
   "metadata": {},
   "outputs": [],
   "source": [
    "link=\"https://www.imdb.com/list/ls055386972/\""
   ]
  },
  {
   "cell_type": "code",
   "execution_count": null,
   "id": "66f347ac",
   "metadata": {},
   "outputs": [],
   "source": [
    "r=requests.get(link)"
   ]
  },
  {
   "cell_type": "code",
   "execution_count": null,
   "id": "f05d0957",
   "metadata": {},
   "outputs": [],
   "source": [
    "r"
   ]
  },
  {
   "cell_type": "code",
   "execution_count": null,
   "id": "931832fc",
   "metadata": {},
   "outputs": [],
   "source": [
    "#reading the page(text)"
   ]
  },
  {
   "cell_type": "code",
   "execution_count": null,
   "id": "565eef39",
   "metadata": {},
   "outputs": [],
   "source": [
    "det=BeautifulSoup(r.text)"
   ]
  },
  {
   "cell_type": "code",
   "execution_count": null,
   "id": "76b578ee",
   "metadata": {},
   "outputs": [],
   "source": [
    "det"
   ]
  },
  {
   "cell_type": "code",
   "execution_count": null,
   "id": "8a768ec4",
   "metadata": {},
   "outputs": [],
   "source": [
    "#fectching data"
   ]
  },
  {
   "cell_type": "code",
   "execution_count": null,
   "id": "d6880d4e",
   "metadata": {},
   "outputs": [],
   "source": [
    "n=det.select(\".lister-item-header a\")"
   ]
  },
  {
   "cell_type": "code",
   "execution_count": null,
   "id": "7f38f274",
   "metadata": {},
   "outputs": [],
   "source": [
    "n"
   ]
  },
  {
   "cell_type": "code",
   "execution_count": null,
   "id": "3cf6341c",
   "metadata": {},
   "outputs": [],
   "source": [
    "r=det.select(\".runtime\")"
   ]
  },
  {
   "cell_type": "code",
   "execution_count": null,
   "id": "52077ad1",
   "metadata": {},
   "outputs": [],
   "source": [
    "r"
   ]
  },
  {
   "cell_type": "code",
   "execution_count": null,
   "id": "a175b6be",
   "metadata": {},
   "outputs": [],
   "source": [
    "g=det.select(\".genre\")"
   ]
  },
  {
   "cell_type": "code",
   "execution_count": null,
   "id": "38d0b143",
   "metadata": {},
   "outputs": [],
   "source": [
    "g"
   ]
  },
  {
   "cell_type": "code",
   "execution_count": null,
   "id": "2ff51a59",
   "metadata": {},
   "outputs": [],
   "source": [
    "rA=det.select(\".ipl-rating-star.small .ipl-rating-star__rating\")"
   ]
  },
  {
   "cell_type": "code",
   "execution_count": null,
   "id": "628741ae",
   "metadata": {},
   "outputs": [],
   "source": [
    "rA"
   ]
  },
  {
   "cell_type": "code",
   "execution_count": null,
   "id": "fea40dd7",
   "metadata": {},
   "outputs": [],
   "source": [
    "m=det.select(\".ipl-rating-widget+ p , .ratings-metascore+ p\")"
   ]
  },
  {
   "cell_type": "code",
   "execution_count": null,
   "id": "0ef086d7",
   "metadata": {},
   "outputs": [],
   "source": [
    "m"
   ]
  },
  {
   "cell_type": "code",
   "execution_count": null,
   "id": "2f2286cc",
   "metadata": {},
   "outputs": [],
   "source": [
    "#importing pandas for making dataframe"
   ]
  },
  {
   "cell_type": "code",
   "execution_count": null,
   "id": "50f88527",
   "metadata": {},
   "outputs": [],
   "source": [
    "import pandas as pan"
   ]
  },
  {
   "cell_type": "code",
   "execution_count": null,
   "id": "e7135df8",
   "metadata": {},
   "outputs": [],
   "source": [
    "s=pan.DataFrame(n,columns=[\"MOVIE NAME\"])"
   ]
  },
  {
   "cell_type": "code",
   "execution_count": null,
   "id": "7d5c6b52",
   "metadata": {},
   "outputs": [],
   "source": [
    "s"
   ]
  },
  {
   "cell_type": "code",
   "execution_count": null,
   "id": "3db02852",
   "metadata": {},
   "outputs": [],
   "source": [
    "#adding column to dataframe"
   ]
  },
  {
   "cell_type": "code",
   "execution_count": null,
   "id": "bac76d5c",
   "metadata": {},
   "outputs": [],
   "source": [
    "s[\"GENRE\"]=g"
   ]
  },
  {
   "cell_type": "code",
   "execution_count": null,
   "id": "7321fca8",
   "metadata": {},
   "outputs": [],
   "source": [
    "s[\"RUN TIME\"]=r"
   ]
  },
  {
   "cell_type": "code",
   "execution_count": null,
   "id": "8bcd2d2d",
   "metadata": {},
   "outputs": [],
   "source": [
    "s[\"STORY\"]=m"
   ]
  },
  {
   "cell_type": "code",
   "execution_count": null,
   "id": "a2205538",
   "metadata": {},
   "outputs": [],
   "source": [
    "s[\"RATING\"]=rA"
   ]
  },
  {
   "cell_type": "code",
   "execution_count": null,
   "id": "5bfd32fc",
   "metadata": {},
   "outputs": [],
   "source": [
    "#dataframe"
   ]
  },
  {
   "cell_type": "code",
   "execution_count": null,
   "id": "4e98bee8",
   "metadata": {},
   "outputs": [],
   "source": [
    "s"
   ]
  },
  {
   "cell_type": "code",
   "execution_count": null,
   "id": "28f2d1ac",
   "metadata": {},
   "outputs": [],
   "source": [
    "#writing a dataframe as csv file"
   ]
  },
  {
   "cell_type": "code",
   "execution_count": null,
   "id": "ddf7e14b",
   "metadata": {},
   "outputs": [],
   "source": [
    "s.to_csv(\"C:\\\\Users\\\\aedpu\\\\OneDrive\\\\Documents\\\\2year Bsc,(cs) A.THAMAYANTHI VISHWAJA\\\\assigment.csv\")"
   ]
  },
  {
   "cell_type": "code",
   "execution_count": null,
   "id": "05c8e050",
   "metadata": {},
   "outputs": [],
   "source": [
    "#reading a dataframe"
   ]
  },
  {
   "cell_type": "code",
   "execution_count": null,
   "id": "58ece1ac",
   "metadata": {},
   "outputs": [],
   "source": [
    "S=pan.read_csv(\"C:\\\\Users\\\\aedpu\\\\OneDrive\\\\Documents\\\\2year Bsc,(cs) A.THAMAYANTHI VISHWAJA\\\\assigment.csv\")"
   ]
  },
  {
   "cell_type": "code",
   "execution_count": null,
   "id": "1aa35341",
   "metadata": {},
   "outputs": [],
   "source": [
    "S"
   ]
  },
  {
   "cell_type": "code",
   "execution_count": null,
   "id": "3b554898",
   "metadata": {},
   "outputs": [],
   "source": []
  }
 ],
 "metadata": {
  "kernelspec": {
   "display_name": "Python 3 (ipykernel)",
   "language": "python",
   "name": "python3"
  },
  "language_info": {
   "codemirror_mode": {
    "name": "ipython",
    "version": 3
   },
   "file_extension": ".py",
   "mimetype": "text/x-python",
   "name": "python",
   "nbconvert_exporter": "python",
   "pygments_lexer": "ipython3",
   "version": "3.9.13"
  }
 },
 "nbformat": 4,
 "nbformat_minor": 5
}
